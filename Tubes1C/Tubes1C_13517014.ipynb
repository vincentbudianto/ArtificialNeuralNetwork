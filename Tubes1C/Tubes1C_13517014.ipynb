{
 "cells": [
  {
   "cell_type": "markdown",
   "metadata": {},
   "source": [
    "# Tugas Besar 1C IF3270 - Machine Learning\n",
    "------------------------------------------\n",
    "##### NIM/Nama  : 13517014/Yoel Susanto | 13517065/Andrian Cedric | 13517131/Jan Meyer Saragih | 13517137/Vincent Budianto\n",
    "##### Nama file : Tubes1C_13517014.ipynb\n",
    "##### Topik     : Implementasi modul myMLP\n",
    "##### Tanggal   : 28 February 2020\n",
    "------------------------------------------"
   ]
  },
  {
   "cell_type": "code",
   "execution_count": 88,
   "metadata": {},
   "outputs": [],
   "source": [
    "from Layer import Layer, ActivationFunction\n",
    "from MLP import MLP\n",
    "from sklearn.neural_network import MLPClassifier as skMLP\n",
    "from sklearn import metrics\n",
    "\n",
    "import matplotlib as plt\n",
    "import numpy as np\n",
    "import pandas as pd\n",
    "import sklearn.datasets as dataset\n",
    "import sklearn.preprocessing as preprocessing\n",
    "import sklearn.tree as tree"
   ]
  },
  {
   "cell_type": "markdown",
   "metadata": {},
   "source": [
    "# A. Penjelasan Implementasi"
   ]
  },
  {
   "cell_type": "markdown",
   "metadata": {},
   "source": [
    "Tinggal penjelasan implementasi sama perbandingan hasil (yg ini tinggal bandingin hasil score ato ga stop di iterasi ke berapa)"
   ]
  },
  {
   "cell_type": "markdown",
   "metadata": {},
   "source": [
    "# B. Hasil Eksekusi dan Perbandingan dengan hasil MLP sklearn "
   ]
  },
  {
   "cell_type": "code",
   "execution_count": 36,
   "metadata": {},
   "outputs": [],
   "source": [
    "# Read data from csv\n",
    "data = pd.read_csv(\"iris.csv\")\n",
    "predictData = data\n",
    "dataHead = list(data.columns)\n",
    "\n",
    "# Shuffle data\n",
    "data = data.sample(frac=1).reset_index(drop=True)\n",
    "\n",
    "# Creates data by 10 (indexes of data)\n",
    "dataSplitCount = 10\n",
    "dataDict = {n: data.iloc[n:n+dataSplitCount, :] for n in range(0, len(data), dataSplitCount)}"
   ]
  },
  {
   "cell_type": "markdown",
   "metadata": {},
   "source": [
    "## 1. myMLP"
   ]
  },
  {
   "cell_type": "code",
   "execution_count": 6,
   "metadata": {},
   "outputs": [],
   "source": [
    "'''\n",
    "Model generator\n",
    "Generates layer to be put in MLP class and return MLP Model\n",
    "\n",
    "Current layer:\n",
    "    x\n",
    "        x   x\n",
    "    x\n",
    "GK      x   x\n",
    "    x\n",
    "        x   x\n",
    "    x\n",
    "\n",
    "Abaikan GK\n",
    "Layer paling kiri adalah keempat input dari 4 atribut iris.csv\n",
    "Layer tengah adalah hidden layer\n",
    "Layer output berfungsi sebagai yang dijelaskan di fungsi outputCheck\n",
    "'''\n",
    "def generateModel(learningRate):\n",
    "    layer0 = Layer(4, 0, 4, ActivationFunction.linear)\n",
    "    layer1 = Layer(3, 1, 4, ActivationFunction.sigmoid)\n",
    "    layer2 = Layer(3, 2, 3, ActivationFunction.sigmoid)\n",
    "    layers = []\n",
    "    layers.append(layer0)\n",
    "    layers.append(layer1)\n",
    "    layers.append(layer2)\n",
    "    return MLP(layers, learningRate)\n",
    "\n",
    "# Do data training\n",
    "'''\n",
    "Create a function that returns the tuple of output node\n",
    "'''\n",
    "def nodeOutputCheck(str):\n",
    "    if (str == \"Versicolor\"):\n",
    "        return [0, 0, 1]\n",
    "    elif (str == \"Virginica\"):\n",
    "        return [0, 1, 0]\n",
    "    elif (str == \"Setosa\"):\n",
    "        return [1, 0, 0]\n",
    "    else:\n",
    "        return [1, 1, 1]"
   ]
  },
  {
   "cell_type": "code",
   "execution_count": null,
   "metadata": {},
   "outputs": [],
   "source": [
    "model = generateModel(0.1)\n",
    "model.learn(dataDict, dataSplitCount, nodeOutputCheck, maxIteration=1000, minError=1)\n",
    "model.predict(predictData, nodeOutputCheck)\n",
    "\n",
    "# Test result\n",
    "for i in range(len(model.layers)):\n",
    "    print(\"Layer: {}\".format(i))\n",
    "    print(np.matrix(model.layers[i].weight))"
   ]
  },
  {
   "cell_type": "markdown",
   "metadata": {},
   "source": [
    "## 2. MLP sklearn"
   ]
  },
  {
   "cell_type": "code",
   "execution_count": 97,
   "metadata": {},
   "outputs": [],
   "source": [
    "df_norm = data[['sepal.length', 'sepal.width', 'petal.length', 'petal.width']].apply(lambda x: (x - x.min()) / (x.max() - x.min()))\n",
    "target = data[['variety']].replace(['Setosa','Versicolor','Virginica'],[0,1,2])\n",
    "df = pd.concat([df_norm, target], axis=1)\n",
    "testDf = df\n",
    "\n",
    "df = df.sample(frac=1).reset_index(drop=True)\n",
    "\n",
    "trainX = df[['sepal.length', 'sepal.width', 'petal.length', 'petal.width']]\n",
    "trainY = df[['variety']]\n",
    "\n",
    "testX = df_norm\n",
    "testY = target"
   ]
  },
  {
   "cell_type": "code",
   "execution_count": 98,
   "metadata": {},
   "outputs": [
    {
     "name": "stdout",
     "output_type": "stream",
     "text": "Training set score: 0.960000\nTest set score: 0.960000\n"
    }
   ],
   "source": [
    "mlp = skMLP(solver='sgd', alpha=0.1, learning_rate_init=0.1, hidden_layer_sizes=(1,3), activation='logistic', max_iter=1000, random_state=1)\n",
    "\n",
    "mlp.fit(trainX, trainY)\n",
    "print(\"Training set score: %f\" % mlp.score(trainX, trainY))\n",
    "\n",
    "prediction = mlp.predict(testX)\n",
    "print(\"Test set score: %f\" % metrics.accuracy_score(prediction,testY))"
   ]
  },
  {
   "cell_type": "markdown",
   "metadata": {},
   "source": [
    "# C. Pembagian Tugas"
   ]
  },
  {
   "cell_type": "markdown",
   "metadata": {},
   "source": [
    "| NIM      | Nama              | Tugas                                         |\n",
    "|:--------:|:------------------|:----------------------------------------------|\n",
    "| 13517014 | Yoel Susanto      | Feed Forward, Backpropagation, Data Structure |\n",
    "| 13517065 | Andrian Cedric    | Feed Forward, Function, Documentation         |\n",
    "| 13517131 | Jan Meyer Saragih | Feed Forward, Backpropagation, Data Structure |\n",
    "| 13517137 | Vincent Budianto  | Feed Forward, Function, Documentation         |"
   ]
  }
 ],
 "metadata": {
  "kernelspec": {
   "display_name": "Python 3",
   "language": "python",
   "name": "python3"
  },
  "language_info": {
   "codemirror_mode": {
    "name": "ipython",
    "version": 3
   },
   "file_extension": ".py",
   "mimetype": "text/x-python",
   "name": "python",
   "nbconvert_exporter": "python",
   "pygments_lexer": "ipython3",
   "version": "3.7.1-final"
  }
 },
 "nbformat": 4,
 "nbformat_minor": 4
}