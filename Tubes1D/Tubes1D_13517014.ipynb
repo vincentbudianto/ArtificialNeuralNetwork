{
 "cells": [
  {
   "cell_type": "markdown",
   "metadata": {},
   "source": [
    "# Tugas Besar 1D IF3270 - Machine Learning\n",
    "------------------------------------------\n",
    "##### NIM/Nama  : 13517014/Yoel Susanto | 13517065/Andrian Cedric | 13517131/Jan Meyer Saragih | 13517137/Vincent Budianto\n",
    "##### Nama file : Tubes1D_13517014.ipynb\n",
    "##### Topik     : Implementasi modul C45 dan MLP dan Perbandingan\n",
    "##### Tanggal   : 20 Maret 2020\n",
    "------------------------------------------"
   ]
  },
  {
   "cell_type": "code",
   "execution_count": 12,
   "metadata": {
    "scrolled": false
   },
   "outputs": [],
   "source": [
    "# Import any needs from C45\n",
    "from decision_tree.DecisionTree import DecisionTree\n",
    "from decision_tree.FitC45 import *\n",
    "\n",
    "# Import any needs from MLP\n",
    "from multilayer_perceptron.Layer import Layer, ActivationFunction\n",
    "from multilayer_perceptron.MLP import MLP\n",
    "from multilayer_perceptron.main import *\n",
    "\n",
    "from sklearn.neural_network import MLPClassifier as skMLP\n",
    "from sklearn import metrics\n",
    "\n",
    "import os\n",
    "import matplotlib as plt\n",
    "import numpy as np\n",
    "import pandas as pd\n",
    "import sklearn.datasets as dataset\n",
    "import sklearn.preprocessing as preprocessing\n",
    "import sklearn.tree as tree"
   ]
  },
  {
   "cell_type": "markdown",
   "metadata": {},
   "source": [
    "## A. Accuracy Testing for ANN/DTL"
   ]
  },
  {
   "cell_type": "markdown",
   "metadata": {},
   "source": [
    "### DTL"
   ]
  },
  {
   "cell_type": "code",
   "execution_count": 14,
   "metadata": {
    "scrolled": true,
    "tags": [
     "outputPrepend",
     "outputPrepend",
     "outputPrepend",
     "outputPrepend",
     "outputPrepend",
     "outputPrepend",
     "outputPrepend",
     "outputPrepend",
     "outputPrepend"
    ]
   },
   "outputs": [
    {
     "output_type": "stream",
     "name": "stdout",
     "text": "Ten Fold Cross Valudation DTL Iteration: 0\nTen Fold Cross Valudation DTL Iteration: 1\nTen Fold Cross Valudation DTL Iteration: 2\nTen Fold Cross Valudation DTL Iteration: 3\nTen Fold Cross Valudation DTL Iteration: 4\nTen Fold Cross Valudation DTL Iteration: 5\nTen Fold Cross Valudation DTL Iteration: 6\nTen Fold Cross Valudation DTL Iteration: 7\nTen Fold Cross Valudation DTL Iteration: 8\nTen Fold Cross Valudation DTL Iteration: 9\nElapsed Time\n[0.04901623725891113, 0.053998708724975586, 0.057999610900878906, 0.029997825622558594, 0.03300070762634277, 0.024996042251586914, 0.037001609802246094, 0.025045156478881836, 0.04199957847595215, 0.05095195770263672]\nAccuracy\n[0.8666666666666667, 0.9333333333333333, 0.8666666666666667, 1.0, 0.9333333333333333, 1.0, 0.9333333333333333, 1.0, 0.8666666666666667, 1.0]\n"
    }
   ],
   "source": [
    "from TenFoldCross import TenFoldCross\n",
    "\n",
    "tenfold = TenFoldCross(\"iris.csv\")\n",
    "trainingTimeList, accuracyList = tenfold.tenCrossFoldDTL()\n",
    ""
   ]
  },
  {
   "cell_type": "code",
   "execution_count": 16,
   "metadata": {},
   "outputs": [
    {
     "output_type": "stream",
     "name": "stdout",
     "text": "Time elapsed\n[0.04901623725891113, 0.053998708724975586, 0.057999610900878906, 0.029997825622558594, 0.03300070762634277, 0.024996042251586914, 0.037001609802246094, 0.025045156478881836, 0.04199957847595215, 0.05095195770263672]\nTime elapsed average 0.04040074348449707\n\n Accuracy\n[0.8666666666666667, 0.9333333333333333, 0.8666666666666667, 1.0, 0.9333333333333333, 1.0, 0.9333333333333333, 1.0, 0.8666666666666667, 1.0]\nAccuracy average 0.9400000000000001\n"
    }
   ],
   "source": [
    "timeElapsedDTL = 0\n",
    "accuracyDTL = 0\n",
    "\n",
    "for i in range(10):\n",
    "    timeElapsedDTL += trainingTimeList[i] \n",
    "    accuracyDTL += accuracyList[i]\n",
    "\n",
    "print(\"Time elapsed\")\n",
    "print(trainingTimeList)\n",
    "print(\"Time elapsed average\", timeElapsedDTL/10)\n",
    "\n",
    "print(\"\\n Accuracy\")\n",
    "print(accuracyList)\n",
    "print(\"Accuracy average\", accuracyDTL / 10)"
   ]
  },
  {
   "cell_type": "markdown",
   "metadata": {},
   "source": [
    "### ANN"
   ]
  },
  {
   "cell_type": "code",
   "execution_count": 17,
   "metadata": {},
   "outputs": [
    {
     "output_type": "stream",
     "name": "stdout",
     "text": "Ten Fold Cross Valudation ANN Iteration: 0\nTen Fold Cross Valudation ANN Iteration: 1\nTen Fold Cross Valudation ANN Iteration: 2\nTen Fold Cross Valudation ANN Iteration: 3\nTen Fold Cross Valudation ANN Iteration: 4\nTen Fold Cross Valudation ANN Iteration: 5\nTen Fold Cross Valudation ANN Iteration: 6\nTen Fold Cross Valudation ANN Iteration: 7\nTen Fold Cross Valudation ANN Iteration: 8\nTen Fold Cross Valudation ANN Iteration: 9\nElapsed Time\n[6.313996315002441, 6.053034067153931, 5.980997323989868, 6.092752933502197, 6.19000244140625, 6.1600446701049805, 6.097994327545166, 6.343969821929932, 6.297055006027222, 6.23100209236145]\nAccuracy\n[0.6, 0.7333333333333333, 0.7333333333333333, 0.9333333333333333, 0.4, 0.2, 0.6, 0.9333333333333333, 0.2, 0.4666666666666667]\n"
    }
   ],
   "source": [
    "trainingTimeList, accuracyList = tenfold.tenCrossFoldANN()"
   ]
  },
  {
   "cell_type": "code",
   "execution_count": 18,
   "metadata": {},
   "outputs": [
    {
     "output_type": "stream",
     "name": "stdout",
     "text": "Time elapsed\n[6.313996315002441, 6.053034067153931, 5.980997323989868, 6.092752933502197, 6.19000244140625, 6.1600446701049805, 6.097994327545166, 6.343969821929932, 6.297055006027222, 6.23100209236145]\nTime elapsed average 6.176084899902344\n\n Accuracy\n[0.6, 0.7333333333333333, 0.7333333333333333, 0.9333333333333333, 0.4, 0.2, 0.6, 0.9333333333333333, 0.2, 0.4666666666666667]\nAccuracy average 0.5800000000000001\n"
    }
   ],
   "source": [
    "timeElapsedANN = 0\n",
    "accuracyANN = 0\n",
    "\n",
    "for i in range(10):\n",
    "    timeElapsedANN += trainingTimeList[i] \n",
    "    accuracyANN += accuracyList[i]\n",
    "\n",
    "print(\"Time elapsed\")\n",
    "print(trainingTimeList)\n",
    "print(\"Time elapsed average\", timeElapsedANN/10)\n",
    "\n",
    "print(\"\\n Accuracy\")\n",
    "print(accuracyList)\n",
    "print(\"Accuracy average\", accuracyANN / 10)\n",
    ""
   ]
  },
  {
   "cell_type": "markdown",
   "metadata": {},
   "source": [
    "## B. Splitting Data"
   ]
  },
  {
   "cell_type": "code",
   "execution_count": 19,
   "metadata": {},
   "outputs": [],
   "source": [
    "data = pd.read_csv(\"dataset/iris.csv\")\n",
    "trainingData = data.sample(frac=0.9)\n",
    "testingData = data.drop(trainingData.index)\n",
    ""
   ]
  },
  {
   "cell_type": "markdown",
   "metadata": {},
   "source": [
    "## C. DTL modeling"
   ]
  },
  {
   "cell_type": "code",
   "execution_count": 21,
   "metadata": {
    "scrolled": true
   },
   "outputs": [
    {
     "output_type": "stream",
     "name": "stdout",
     "text": "\nxml Result :\n<petal.length flag=\"r\" impurity=\"32/39\" value=\"2.45\">\n    <petal.width flag=\"l\" impurity=\"4/38\" value=\"1.75\">\n      <sepal.length flag=\"l\" impurity=\"3/38\" value=\"7.05\">\n        <sepal.width flag=\"l\" impurity=\"3/19\" value=\"2.8499999999999996\">Versicolor</sepal.width>\n        <sepal.width flag=\"r\" impurity=\"19\" value=\"2.8499999999999996\">Versicolor</sepal.width>\n      </sepal.length><sepal.length flag=\"r\" impurity=\"1\" value=\"7.05\">Virginica</sepal.length>\n    </petal.width><petal.width flag=\"r\" impurity=\"28/1\" value=\"1.75\">\n      <sepal.length flag=\"l\" impurity=\"7/1\" value=\"6.25\">\n        <sepal.width flag=\"l\" impurity=\"7\" value=\"3.05\">Virginica</sepal.width>\n        <sepal.width flag=\"r\" impurity=\"1\" value=\"3.05\">Versicolor</sepal.width>\n      </sepal.length><sepal.length flag=\"r\" impurity=\"21\" value=\"6.25\">Virginica</sepal.length>\n    </petal.width>\n  </petal.length>\n\nRules :\n[['petal.length <= 2.45', 'Setosa'], ['petal.width <= 1.75', 'Versicolor'], ['petal.width <= 1.75', 'Versicolor'], ['sepal.length > 7.05', 'Virginica'], ['sepal.width <= 3.05', 'Virginica'], ['sepal.length <= 6.25', 'Versicolor'], ['sepal.length > 6.25', 'Virginica']]\n"
    }
   ],
   "source": [
    "## Load DTL model from training data\n",
    "loadRules(trainingData)"
   ]
  },
  {
   "cell_type": "markdown",
   "metadata": {},
   "source": [
    "## D. ANN Modeling"
   ]
  },
  {
   "cell_type": "code",
   "execution_count": 22,
   "metadata": {},
   "outputs": [
    {
     "output_type": "stream",
     "name": "stdout",
     "text": "Saving newest ANN model!\nLayer: 0\n[[1]\n [1]\n [1]\n [1]]\nLayer: 1\n[[-0.78616133 -1.19244754 -0.43123358  2.43502836  0.89499363]\n [-0.1348321  -1.21436515  0.20583955  0.0292471  -0.44996986]\n [-0.60502158 -0.0694131  -0.81994818 -0.31490774 -0.85162207]]\nLayer: 2\n[[ 1.74290583 -4.39324144 -0.87513203  0.97046311]\n [-2.58904608  2.5616174  -0.35749431  0.35769296]\n [-1.57014303  1.6731346   0.85607469 -0.42738742]]\n"
    }
   ],
   "source": [
    "data = trainingData\n",
    "predictData = data\n",
    "dataHead = list(data.columns)\n",
    "\n",
    "model = learn(data, dataHead, predictData, False, True)\n",
    "\n",
    "# Test result\n",
    "for i in range(len(model.layers)):\n",
    "    print(\"Layer: {}\".format(i))\n",
    "    print(np.matrix(model.layers[i].weight))"
   ]
  },
  {
   "cell_type": "markdown",
   "metadata": {},
   "source": [
    "## E. DTL Model Load and Accuracy Testing"
   ]
  },
  {
   "cell_type": "code",
   "execution_count": 34,
   "metadata": {},
   "outputs": [],
   "source": [
    "# Init\n",
    "rules = []\n",
    "modelRules = []\n",
    "accuracyList = []\n",
    "dataCopy = cp.copy(testingData)\n",
    "dataHead = list(dataCopy.columns)\n",
    "txtFile = \"RuleList.txt\"\n",
    "\n",
    "# Load\n",
    "with open(txtFile, \"rb\") as f:\n",
    "        rules = pickle.load(f)\n",
    "\n",
    "for i in range(len(rules)):\n",
    "                modelRules.append(createRule(rules[i]))\n",
    "errorCount = getErrorCountExternal(testingData, modelRules, dataHead)\n",
    "accuracyDTL = (len(testingData) - errorCount) / len(testingData)"
   ]
  },
  {
   "cell_type": "markdown",
   "metadata": {},
   "source": [
    "## F. ANN Model Load and Accuracy Testing"
   ]
  },
  {
   "cell_type": "code",
   "execution_count": 35,
   "metadata": {},
   "outputs": [
    {
     "output_type": "stream",
     "name": "stdout",
     "text": "Layer: 0\n[[1]\n [1]\n [1]\n [1]]\nLayer: 1\n[[-0.79892511 -0.33525362 -0.49511272  1.48168924 -0.59643061]\n [ 1.0777076  -0.01746116  0.98936153 -0.77202859 -1.12907695]\n [ 0.65729743  0.59216448  0.63150836 -0.6692684   0.91796501]]\nLayer: 2\n[[ 0.08266413 -1.36225922  1.40465036 -0.44986209]\n [-0.39154228  1.12741974 -1.71661818  0.49593419]\n [-0.94255015  0.03717847 -0.88987529 -0.55873727]]\n"
    }
   ],
   "source": [
    "data = testingData\n",
    "predictData = data\n",
    "dataHead = list(data.columns)\n",
    "accuracyListANN = []\n",
    "\n",
    "model = learn(data, dataHead, predictData)\n",
    "\n",
    "# Test result\n",
    "for i in range(len(model.layers)):\n",
    "    print(\"Layer: {}\".format(i))\n",
    "    print(np.matrix(model.layers[i].weight))\n",
    "    accuracyANN = model.predict(testingData, nodeOutputCheckExternal)\n",
    "    accuracyListANN.append(accuracyANN)\n",
    "\n",
    ""
   ]
  },
  {
   "cell_type": "markdown",
   "metadata": {},
   "source": [
    "## G. Accuarcy Test DTL "
   ]
  },
  {
   "cell_type": "code",
   "execution_count": 47,
   "metadata": {},
   "outputs": [
    {
     "output_type": "stream",
     "name": "stdout",
     "text": "0.9333333333333333\n"
    }
   ],
   "source": [
    "print(accuracyDTL)"
   ]
  },
  {
   "cell_type": "markdown",
   "metadata": {},
   "source": [
    "## H. Accuracy Test ANN"
   ]
  },
  {
   "cell_type": "code",
   "execution_count": 40,
   "metadata": {},
   "outputs": [
    {
     "output_type": "stream",
     "name": "stdout",
     "text": "0.8666666666666667\n"
    }
   ],
   "source": [
    "print(accuracyANN)"
   ]
  },
  {
   "cell_type": "code",
   "execution_count": null,
   "metadata": {},
   "outputs": [],
   "source": []
  }
 ],
 "metadata": {
  "kernelspec": {
   "display_name": "Python 3",
   "language": "python",
   "name": "python3"
  },
  "language_info": {
   "codemirror_mode": {
    "name": "ipython",
    "version": 3
   },
   "file_extension": ".py",
   "mimetype": "text/x-python",
   "name": "python",
   "nbconvert_exporter": "python",
   "pygments_lexer": "ipython3",
   "version": "3.7.1-final"
  }
 },
 "nbformat": 4,
 "nbformat_minor": 4
}