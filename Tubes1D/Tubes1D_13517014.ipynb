{
 "cells": [
  {
   "cell_type": "markdown",
   "metadata": {},
   "source": [
    "# Tugas Besar 1D IF3270 - Machine Learning\n",
    "------------------------------------------\n",
    "##### NIM/Nama  : 13517014/Yoel Susanto | 13517065/Andrian Cedric | 13517131/Jan Meyer Saragih | 13517137/Vincent Budianto\n",
    "##### Nama file : Tubes1D_13517014.ipynb\n",
    "##### Topik     : Implementasi modul C45 dan MLP dan Perbandingan\n",
    "##### Tanggal   : 20 Maret 2020\n",
    "------------------------------------------"
   ]
  },
  {
   "cell_type": "code",
   "execution_count": 2,
   "metadata": {
    "scrolled": false
   },
   "outputs": [],
   "source": [
    "# Import any needs from C45\n",
    "from decision_tree.DecisionTree import DecisionTree\n",
    "from decision_tree.FitC45 import *\n",
    "\n",
    "# Import any needs from MLP\n",
    "from multilayer_perceptron.Layer import Layer, ActivationFunction\n",
    "from multilayer_perceptron.MLP import MLP\n",
    "from multilayer_perceptron.main import *\n",
    "\n",
    "from sklearn.neural_network import MLPClassifier as skMLP\n",
    "from sklearn import metrics\n",
    "\n",
    "import os\n",
    "import matplotlib as plt\n",
    "import numpy as np\n",
    "import pandas as pd\n",
    "import sklearn.datasets as dataset\n",
    "import sklearn.preprocessing as preprocessing\n",
    "import sklearn.tree as tree"
   ]
  },
  {
   "cell_type": "markdown",
   "metadata": {},
   "source": [
    "## A. Accuracy Testing for ANN/DTL"
   ]
  },
  {
   "cell_type": "code",
   "execution_count": 22,
   "metadata": {
    "scrolled": true,
    "tags": [
     "outputPrepend",
     "outputPrepend",
     "outputPrepend",
     "outputPrepend",
     "outputPrepend",
     "outputPrepend",
     "outputPrepend",
     "outputPrepend",
     "outputPrepend"
    ]
   },
   "outputs": [
    {
     "output_type": "error",
     "ename": "NameError",
     "evalue": "name 'trainingTimeList' is not defined",
     "traceback": [
      "\u001b[1;31m---------------------------------------------------------------------------\u001b[0m",
      "\u001b[1;31mNameError\u001b[0m                                 Traceback (most recent call last)",
      "\u001b[1;32m<ipython-input-22-d67e805bfb30>\u001b[0m in \u001b[0;36m<module>\u001b[1;34m\u001b[0m\n\u001b[0;32m      5\u001b[0m \u001b[1;33m\u001b[0m\u001b[0m\n\u001b[0;32m      6\u001b[0m \u001b[1;32mfor\u001b[0m \u001b[0mi\u001b[0m \u001b[1;32min\u001b[0m \u001b[0mrange\u001b[0m\u001b[1;33m(\u001b[0m\u001b[1;36m10\u001b[0m\u001b[1;33m)\u001b[0m\u001b[1;33m:\u001b[0m\u001b[1;33m\u001b[0m\u001b[1;33m\u001b[0m\u001b[0m\n\u001b[1;32m----> 7\u001b[1;33m     \u001b[0mtimeElapsedDTL\u001b[0m \u001b[1;33m+=\u001b[0m \u001b[0mtrainingTimeList\u001b[0m\u001b[1;33m[\u001b[0m\u001b[0mi\u001b[0m\u001b[1;33m]\u001b[0m\u001b[1;33m\u001b[0m\u001b[1;33m\u001b[0m\u001b[0m\n\u001b[0m\u001b[0;32m      8\u001b[0m     \u001b[0maccuracyDTL\u001b[0m \u001b[1;33m+=\u001b[0m \u001b[0maccuracyList\u001b[0m\u001b[1;33m[\u001b[0m\u001b[0mi\u001b[0m\u001b[1;33m]\u001b[0m\u001b[1;33m\u001b[0m\u001b[1;33m\u001b[0m\u001b[0m\n\u001b[0;32m      9\u001b[0m \u001b[0mprint\u001b[0m\u001b[1;33m(\u001b[0m\u001b[0mtimeElapsedDTL\u001b[0m\u001b[1;33m/\u001b[0m\u001b[1;36m10\u001b[0m\u001b[1;33m)\u001b[0m\u001b[1;33m\u001b[0m\u001b[1;33m\u001b[0m\u001b[0m\n",
      "\u001b[1;31mNameError\u001b[0m: name 'trainingTimeList' is not defined"
     ]
    }
   ],
   "source": [
    "import TenFoldCross\n",
    "\n",
    "# timeElapsedDTL = 0\n",
    "# accuracyDTL = 0\n",
    "\n",
    "# for i in range(10):\n",
    "#     timeElapsedDTL += trainingTimeList[i] \n",
    "#     accuracyDTL += accuracyList[i]\n",
    "# print(timeElapsedDTL/10)"
   ]
  },
  {
   "cell_type": "code",
   "execution_count": 17,
   "metadata": {},
   "outputs": [
    {
     "output_type": "error",
     "ename": "NameError",
     "evalue": "name 'TenFoldCross' is not defined",
     "traceback": [
      "\u001b[1;31m---------------------------------------------------------------------------\u001b[0m",
      "\u001b[1;31mNameError\u001b[0m                                 Traceback (most recent call last)",
      "\u001b[1;32m<ipython-input-17-72e2fe55efc9>\u001b[0m in \u001b[0;36m<module>\u001b[1;34m\u001b[0m\n\u001b[0;32m      8\u001b[0m \u001b[1;33m\u001b[0m\u001b[0m\n\u001b[0;32m      9\u001b[0m \u001b[1;32mfor\u001b[0m \u001b[0mi\u001b[0m \u001b[1;32min\u001b[0m \u001b[0mrange\u001b[0m\u001b[1;33m(\u001b[0m\u001b[1;36m10\u001b[0m\u001b[1;33m)\u001b[0m\u001b[1;33m:\u001b[0m\u001b[1;33m\u001b[0m\u001b[1;33m\u001b[0m\u001b[0m\n\u001b[1;32m---> 10\u001b[1;33m     \u001b[0mtimeElapsedDTL\u001b[0m \u001b[1;33m+=\u001b[0m \u001b[0mTenFoldCross\u001b[0m\u001b[1;33m.\u001b[0m\u001b[0mtenCrossFoldDTL\u001b[0m\u001b[1;33m.\u001b[0m\u001b[0mtrainingTimeList\u001b[0m\u001b[1;33m[\u001b[0m\u001b[0mi\u001b[0m\u001b[1;33m]\u001b[0m\u001b[1;33m\u001b[0m\u001b[1;33m\u001b[0m\u001b[0m\n\u001b[0m\u001b[0;32m     11\u001b[0m     \u001b[0maccuracyDTL\u001b[0m \u001b[1;33m+=\u001b[0m \u001b[0mtenCrossFoldDTL\u001b[0m\u001b[1;33m.\u001b[0m\u001b[0maccuracyList\u001b[0m\u001b[1;33m[\u001b[0m\u001b[0mi\u001b[0m\u001b[1;33m]\u001b[0m\u001b[1;33m\u001b[0m\u001b[1;33m\u001b[0m\u001b[0m\n",
      "\u001b[1;31mNameError\u001b[0m: name 'TenFoldCross' is not defined"
     ]
    }
   ],
   "source": [
    "# # Time Elapsed for DTL TenFoldCross\n",
    "# timeElapsedDTL = 0\n",
    "# accuracyDTL = 0\n",
    "\n",
    "# # Time Elapsed for ANN TenFoldCross\n",
    "# timeElapsedANN = 0\n",
    "# accuracyANN = 0\n",
    "\n",
    "# for i in range(10):\n",
    "#     timeElapsedDTL += TenFoldCross.tenCrossFoldDTL.trainingTimeList[i] \n",
    "#     accuracyDTL += tenCrossFoldDTL.accuracyList[i]\n"
   ]
  },
  {
   "cell_type": "markdown",
   "metadata": {},
   "source": [
    "## B. Splitting Data"
   ]
  },
  {
   "cell_type": "code",
   "execution_count": 3,
   "metadata": {},
   "outputs": [],
   "source": [
    "data = pd.read_csv(\"dataset/iris.csv\")\n",
    "trainingData = data.sample(frac=0.9)\n",
    "testingData = data.drop(trainingData.index)\n",
    ""
   ]
  },
  {
   "cell_type": "markdown",
   "metadata": {},
   "source": [
    "## C. DTL modeling"
   ]
  },
  {
   "cell_type": "code",
   "execution_count": 4,
   "metadata": {
    "scrolled": true
   },
   "outputs": [
    {
     "output_type": "stream",
     "name": "stdout",
     "text": "\nxml Result :\n<petal.length value=\"2.45\" flag=\"r\" impurity=\"34/37\">\n    <petal.width value=\"1.75\" flag=\"l\" impurity=\"3/36\">\n      <sepal.length value=\"7.05\" flag=\"l\" impurity=\"2/36\">\n        <sepal.width value=\"2.8499999999999996\" flag=\"l\" impurity=\"2/21\">Versicolor</sepal.width>\n        <sepal.width value=\"2.8499999999999996\" flag=\"r\" impurity=\"15\">Versicolor</sepal.width>\n      </sepal.length><sepal.length value=\"7.05\" flag=\"r\" impurity=\"1\">Virginica</sepal.length>\n    </petal.width><petal.width value=\"1.75\" flag=\"r\" impurity=\"31/1\">\n      <sepal.length value=\"6.25\" flag=\"l\" impurity=\"8/1\">\n        <sepal.width value=\"3.05\" flag=\"l\" impurity=\"7\">Virginica</sepal.width>\n        <sepal.width value=\"3.05\" flag=\"r\" impurity=\"1/1\">Virginica</sepal.width>\n      </sepal.length><sepal.length value=\"6.25\" flag=\"r\" impurity=\"23\">Virginica</sepal.length>\n    </petal.width>\n  </petal.length>\n\nRules :\n[['petal.length <= 2.45', 'Setosa'], ['sepal.length <= 7.05', 'sepal.width <= 2.8499999999999996', 'Versicolor'], ['petal.width <= 1.75', 'Versicolor'], ['sepal.length > 7.05', 'Virginica'], ['sepal.width <= 3.05', 'Virginica'], ['sepal.width > 3.05', 'Virginica'], ['sepal.length > 6.25', 'Virginica']]\n"
    }
   ],
   "source": [
    "## Load DTL model from training data\n",
    "loadRules(trainingData)"
   ]
  },
  {
   "cell_type": "markdown",
   "metadata": {},
   "source": [
    "## D. ANN Modeling"
   ]
  },
  {
   "cell_type": "code",
   "execution_count": 5,
   "metadata": {},
   "outputs": [
    {
     "output_type": "stream",
     "name": "stdout",
     "text": "Layer: 0\n[[1]\n [1]\n [1]\n [1]]\nLayer: 1\n[[ 0.96212765 -0.84474871 -0.73531242 -0.56848295  0.58609046]\n [ 0.20939021  0.76941707  0.86320737 -0.41498976 -0.37766324]\n [-0.39402694 -0.21114903 -1.81743503  2.48645768  0.10191722]]\nLayer: 2\n[[ 0.82951035 -0.74336412  0.92219914 -3.99778146]\n [-1.20181382  0.52825348 -0.9365832   2.01181655]\n [-0.98824514 -0.91568416 -1.00959229  2.03664288]]\n"
    }
   ],
   "source": [
    "data = trainingData\n",
    "predictData = data\n",
    "dataHead = list(data.columns)\n",
    "\n",
    "model = learn(data, dataHead, predictData)\n",
    "\n",
    "# Test result\n",
    "for i in range(len(model.layers)):\n",
    "    print(\"Layer: {}\".format(i))\n",
    "    print(np.matrix(model.layers[i].weight))"
   ]
  },
  {
   "cell_type": "markdown",
   "metadata": {},
   "source": [
    "## E. DTL Model Load "
   ]
  },
  {
   "cell_type": "code",
   "execution_count": 6,
   "metadata": {},
   "outputs": [],
   "source": [
    "# Init\n",
    "rules = []\n",
    "modelRules = []\n",
    "accuracyList = []\n",
    "dataCopy = cp.copy(testingData)\n",
    "dataHead = list(dataCopy.columns)\n",
    "txtFile = \"RuleList.txt\"\n",
    "\n",
    "# Load\n",
    "with open(txtFile, \"rb\") as f:\n",
    "        rules = pickle.load(f)\n",
    "\n",
    "for i in range(len(rules)):\n",
    "                modelRules.append(createRule(rules[i]))\n",
    "errorCount = getErrorCountExternal(testingData, modelRules, dataHead)\n",
    "accuracyDTL = (len(testingData) - errorCount) / len(testingData)"
   ]
  },
  {
   "cell_type": "markdown",
   "metadata": {},
   "source": [
    "## F. ANN Model Load"
   ]
  },
  {
   "cell_type": "code",
   "execution_count": 13,
   "metadata": {},
   "outputs": [
    {
     "output_type": "stream",
     "name": "stdout",
     "text": "Layer: 0\n[[1]\n [1]\n [1]\n [1]]\nLayer: 1\n[[ 0.76310784  0.0674449  -0.5140741   0.13309517  0.71149454]\n [ 0.75995319  0.85502309  0.03810182 -0.66841674  0.65536424]\n [ 0.96577627 -0.81403369 -0.18943507 -0.74373745 -0.04564464]]\nLayer: 2\n[[-0.1767305  -0.99511286 -0.78617254 -0.2595553 ]\n [ 0.2098321  -0.41756875  0.31771466  0.33151511]\n [-0.43832987 -0.31469785 -0.05616975  0.68053917]]\n"
    }
   ],
   "source": [
    "data = testingData\n",
    "predictData = data\n",
    "dataHead = list(data.columns)\n",
    "accuracyListANN = []\n",
    "\n",
    "model = learn(data, dataHead, predictData)\n",
    "\n",
    "# Test result\n",
    "for i in range(len(model.layers)):\n",
    "    print(\"Layer: {}\".format(i))\n",
    "    print(np.matrix(model.layers[i].weight))\n",
    "    accuracyANN = model.predict(testingData, nodeOutputCheckExternal)\n",
    "    accuracyListANN.append(accuracyANN)\n",
    "\n",
    ""
   ]
  },
  {
   "cell_type": "markdown",
   "metadata": {},
   "source": [
    "## G. Accuarcy Test DTL "
   ]
  },
  {
   "cell_type": "code",
   "execution_count": 16,
   "metadata": {},
   "outputs": [
    {
     "output_type": "stream",
     "name": "stdout",
     "text": "0.6\n"
    }
   ],
   "source": [
    "print(accuracyDTL)"
   ]
  },
  {
   "cell_type": "markdown",
   "metadata": {},
   "source": [
    "## H. Accuracy Test ANN"
   ]
  },
  {
   "cell_type": "code",
   "execution_count": 15,
   "metadata": {},
   "outputs": [
    {
     "output_type": "stream",
     "name": "stdout",
     "text": "0.5333333333333333\n"
    }
   ],
   "source": [
    "print(accuracyANN)"
   ]
  },
  {
   "cell_type": "code",
   "execution_count": null,
   "metadata": {},
   "outputs": [],
   "source": []
  }
 ],
 "metadata": {
  "kernelspec": {
   "display_name": "Python 3",
   "language": "python",
   "name": "python3"
  },
  "language_info": {
   "codemirror_mode": {
    "name": "ipython",
    "version": 3
   },
   "file_extension": ".py",
   "mimetype": "text/x-python",
   "name": "python",
   "nbconvert_exporter": "python",
   "pygments_lexer": "ipython3",
   "version": "3.8.1-final"
  }
 },
 "nbformat": 4,
 "nbformat_minor": 4
}